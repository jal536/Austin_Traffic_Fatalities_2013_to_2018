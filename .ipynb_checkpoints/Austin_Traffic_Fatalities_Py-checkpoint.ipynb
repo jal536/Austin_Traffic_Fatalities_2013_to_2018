{
 "cells": [
  {
   "cell_type": "code",
   "execution_count": 1,
   "metadata": {},
   "outputs": [],
   "source": [
    "import matplotlib.pyplot as plt\n",
    "import pandas as pd\n",
    "import numpy as np"
   ]
  },
  {
   "cell_type": "code",
   "execution_count": 2,
   "metadata": {},
   "outputs": [],
   "source": [
    "APD_2013 = \"APD_Data/2013_APD_Traffic_Fatalities.csv\"\n",
    "APD_2014 = \"APD_Data/2014_APD_Traffic_Fatalities.csv\"\n",
    "APD_2015 = \"APD_Data/2015_APD_Traffic_Fatalities.csv\"\n",
    "APD_2016 = \"APD_Data/2016_APD_Traffic_Fatalities.csv\"\n",
    "APD_2017 = \"APD_Data/2017_APD_Traffic_Fatalities.csv\"\n",
    "APD_2018 = \"APD_Data/2018_APD_Traffic_Fatality_Data_021219.csv\"\n",
    "\n",
    "\n",
    "APD_2013_df = pd.read_csv(APD_2013)\n",
    "APD_2014_df = pd.read_csv(APD_2014)\n",
    "APD_2015_df = pd.read_csv(APD_2015)\n",
    "APD_2016_df = pd.read_csv(APD_2016)\n",
    "APD_2017_df = pd.read_csv(APD_2017)\n",
    "APD_2018_df = pd.read_csv(APD_2018)"
   ]
  },
  {
   "cell_type": "code",
   "execution_count": 3,
   "metadata": {},
   "outputs": [
    {
     "ename": "KeyError",
     "evalue": "\"['fatal crash number'] not found in axis\"",
     "output_type": "error",
     "traceback": [
      "\u001b[1;31m---------------------------------------------------------------------------\u001b[0m",
      "\u001b[1;31mKeyError\u001b[0m                                  Traceback (most recent call last)",
      "\u001b[1;32m<ipython-input-3-cc0086656425>\u001b[0m in \u001b[0;36m<module>\u001b[1;34m\u001b[0m\n\u001b[0;32m     11\u001b[0m \u001b[0mAPD_2016_df\u001b[0m \u001b[1;33m=\u001b[0m \u001b[0mAPD_2016_df\u001b[0m\u001b[1;33m.\u001b[0m\u001b[0mrename\u001b[0m\u001b[1;33m(\u001b[0m\u001b[0mcolumns\u001b[0m\u001b[1;33m=\u001b[0m\u001b[1;33m{\u001b[0m\u001b[1;34m\"LOCATION\"\u001b[0m\u001b[1;33m:\u001b[0m \u001b[1;34m\"Location\"\u001b[0m\u001b[1;33m,\u001b[0m\u001b[1;34m'restraint or helmet'\u001b[0m\u001b[1;33m:\u001b[0m \u001b[1;34m'Restraint Type'\u001b[0m\u001b[1;33m,\u001b[0m \u001b[1;34m'COORD X'\u001b[0m \u001b[1;33m:\u001b[0m \u001b[1;34m'X COORD'\u001b[0m\u001b[1;33m,\u001b[0m\u001b[1;34m'DL Status'\u001b[0m\u001b[1;33m:\u001b[0m\u001b[1;34m'Drivers License Status'\u001b[0m\u001b[1;33m,\u001b[0m\u001b[1;34m'SUSPECTED IMPAIRMENT'\u001b[0m\u001b[1;33m:\u001b[0m \u001b[1;34m'Suspected Impairment'\u001b[0m\u001b[1;33m}\u001b[0m\u001b[1;33m)\u001b[0m\u001b[1;33m\u001b[0m\u001b[1;33m\u001b[0m\u001b[0m\n\u001b[0;32m     12\u001b[0m \u001b[1;33m\u001b[0m\u001b[0m\n\u001b[1;32m---> 13\u001b[1;33m \u001b[0mAPD_2017_df\u001b[0m \u001b[1;33m=\u001b[0m \u001b[0mAPD_2017_df\u001b[0m\u001b[1;33m.\u001b[0m\u001b[0mdrop\u001b[0m\u001b[1;33m(\u001b[0m\u001b[1;33m[\u001b[0m\u001b[1;34m'fatal crash number'\u001b[0m\u001b[1;33m,\u001b[0m\u001b[1;34m'Ran red light or stop sign'\u001b[0m\u001b[1;33m,\u001b[0m \u001b[1;34m'Case Number'\u001b[0m\u001b[1;33m,\u001b[0m\u001b[1;34m'Ran red light or stop sign'\u001b[0m\u001b[1;33m,\u001b[0m \u001b[1;34m'Area'\u001b[0m\u001b[1;33m,\u001b[0m \u001b[1;34m'Type of road'\u001b[0m\u001b[1;33m,\u001b[0m \u001b[1;34m'Failure to stop and render aid'\u001b[0m\u001b[1;33m,\u001b[0m \u001b[1;33m]\u001b[0m\u001b[1;33m,\u001b[0m\u001b[0maxis\u001b[0m\u001b[1;33m=\u001b[0m\u001b[1;36m1\u001b[0m\u001b[1;33m)\u001b[0m\u001b[1;33m\u001b[0m\u001b[1;33m\u001b[0m\u001b[0m\n\u001b[0m\u001b[0;32m     14\u001b[0m \u001b[0mAPD_2017_df\u001b[0m \u001b[1;33m=\u001b[0m \u001b[0mAPD_2017_df\u001b[0m\u001b[1;33m.\u001b[0m\u001b[0mrename\u001b[0m\u001b[1;33m(\u001b[0m\u001b[0mcolumns\u001b[0m\u001b[1;33m=\u001b[0m\u001b[1;33m{\u001b[0m\u001b[1;34m'Restraint helmet'\u001b[0m\u001b[1;33m:\u001b[0m \u001b[1;34m'Restraint Type'\u001b[0m\u001b[1;33m,\u001b[0m \u001b[1;34m'X coord'\u001b[0m \u001b[1;33m:\u001b[0m \u001b[1;34m'X COORD'\u001b[0m\u001b[1;33m,\u001b[0m \u001b[1;34m'Y coord'\u001b[0m\u001b[1;33m:\u001b[0m \u001b[1;34m'Y COORD'\u001b[0m\u001b[1;33m,\u001b[0m \u001b[1;34m'Killed driver pass'\u001b[0m\u001b[1;33m:\u001b[0m \u001b[1;34m'Victim'\u001b[0m\u001b[1;33m,\u001b[0m \u001b[1;34m'DL Status'\u001b[0m\u001b[1;33m:\u001b[0m\u001b[1;34m'Drivers License Status'\u001b[0m\u001b[1;33m}\u001b[0m\u001b[1;33m)\u001b[0m\u001b[1;33m\u001b[0m\u001b[1;33m\u001b[0m\u001b[0m\n\u001b[0;32m     15\u001b[0m \u001b[1;33m\u001b[0m\u001b[0m\n",
      "\u001b[1;32m~\\Anaconda3\\lib\\site-packages\\pandas\\core\\frame.py\u001b[0m in \u001b[0;36mdrop\u001b[1;34m(self, labels, axis, index, columns, level, inplace, errors)\u001b[0m\n\u001b[0;32m   3938\u001b[0m                                            \u001b[0mindex\u001b[0m\u001b[1;33m=\u001b[0m\u001b[0mindex\u001b[0m\u001b[1;33m,\u001b[0m \u001b[0mcolumns\u001b[0m\u001b[1;33m=\u001b[0m\u001b[0mcolumns\u001b[0m\u001b[1;33m,\u001b[0m\u001b[1;33m\u001b[0m\u001b[1;33m\u001b[0m\u001b[0m\n\u001b[0;32m   3939\u001b[0m                                            \u001b[0mlevel\u001b[0m\u001b[1;33m=\u001b[0m\u001b[0mlevel\u001b[0m\u001b[1;33m,\u001b[0m \u001b[0minplace\u001b[0m\u001b[1;33m=\u001b[0m\u001b[0minplace\u001b[0m\u001b[1;33m,\u001b[0m\u001b[1;33m\u001b[0m\u001b[1;33m\u001b[0m\u001b[0m\n\u001b[1;32m-> 3940\u001b[1;33m                                            errors=errors)\n\u001b[0m\u001b[0;32m   3941\u001b[0m \u001b[1;33m\u001b[0m\u001b[0m\n\u001b[0;32m   3942\u001b[0m     @rewrite_axis_style_signature('mapper', [('copy', True),\n",
      "\u001b[1;32m~\\Anaconda3\\lib\\site-packages\\pandas\\core\\generic.py\u001b[0m in \u001b[0;36mdrop\u001b[1;34m(self, labels, axis, index, columns, level, inplace, errors)\u001b[0m\n\u001b[0;32m   3778\u001b[0m         \u001b[1;32mfor\u001b[0m \u001b[0maxis\u001b[0m\u001b[1;33m,\u001b[0m \u001b[0mlabels\u001b[0m \u001b[1;32min\u001b[0m \u001b[0maxes\u001b[0m\u001b[1;33m.\u001b[0m\u001b[0mitems\u001b[0m\u001b[1;33m(\u001b[0m\u001b[1;33m)\u001b[0m\u001b[1;33m:\u001b[0m\u001b[1;33m\u001b[0m\u001b[1;33m\u001b[0m\u001b[0m\n\u001b[0;32m   3779\u001b[0m             \u001b[1;32mif\u001b[0m \u001b[0mlabels\u001b[0m \u001b[1;32mis\u001b[0m \u001b[1;32mnot\u001b[0m \u001b[1;32mNone\u001b[0m\u001b[1;33m:\u001b[0m\u001b[1;33m\u001b[0m\u001b[1;33m\u001b[0m\u001b[0m\n\u001b[1;32m-> 3780\u001b[1;33m                 \u001b[0mobj\u001b[0m \u001b[1;33m=\u001b[0m \u001b[0mobj\u001b[0m\u001b[1;33m.\u001b[0m\u001b[0m_drop_axis\u001b[0m\u001b[1;33m(\u001b[0m\u001b[0mlabels\u001b[0m\u001b[1;33m,\u001b[0m \u001b[0maxis\u001b[0m\u001b[1;33m,\u001b[0m \u001b[0mlevel\u001b[0m\u001b[1;33m=\u001b[0m\u001b[0mlevel\u001b[0m\u001b[1;33m,\u001b[0m \u001b[0merrors\u001b[0m\u001b[1;33m=\u001b[0m\u001b[0merrors\u001b[0m\u001b[1;33m)\u001b[0m\u001b[1;33m\u001b[0m\u001b[1;33m\u001b[0m\u001b[0m\n\u001b[0m\u001b[0;32m   3781\u001b[0m \u001b[1;33m\u001b[0m\u001b[0m\n\u001b[0;32m   3782\u001b[0m         \u001b[1;32mif\u001b[0m \u001b[0minplace\u001b[0m\u001b[1;33m:\u001b[0m\u001b[1;33m\u001b[0m\u001b[1;33m\u001b[0m\u001b[0m\n",
      "\u001b[1;32m~\\Anaconda3\\lib\\site-packages\\pandas\\core\\generic.py\u001b[0m in \u001b[0;36m_drop_axis\u001b[1;34m(self, labels, axis, level, errors)\u001b[0m\n\u001b[0;32m   3810\u001b[0m                 \u001b[0mnew_axis\u001b[0m \u001b[1;33m=\u001b[0m \u001b[0maxis\u001b[0m\u001b[1;33m.\u001b[0m\u001b[0mdrop\u001b[0m\u001b[1;33m(\u001b[0m\u001b[0mlabels\u001b[0m\u001b[1;33m,\u001b[0m \u001b[0mlevel\u001b[0m\u001b[1;33m=\u001b[0m\u001b[0mlevel\u001b[0m\u001b[1;33m,\u001b[0m \u001b[0merrors\u001b[0m\u001b[1;33m=\u001b[0m\u001b[0merrors\u001b[0m\u001b[1;33m)\u001b[0m\u001b[1;33m\u001b[0m\u001b[1;33m\u001b[0m\u001b[0m\n\u001b[0;32m   3811\u001b[0m             \u001b[1;32melse\u001b[0m\u001b[1;33m:\u001b[0m\u001b[1;33m\u001b[0m\u001b[1;33m\u001b[0m\u001b[0m\n\u001b[1;32m-> 3812\u001b[1;33m                 \u001b[0mnew_axis\u001b[0m \u001b[1;33m=\u001b[0m \u001b[0maxis\u001b[0m\u001b[1;33m.\u001b[0m\u001b[0mdrop\u001b[0m\u001b[1;33m(\u001b[0m\u001b[0mlabels\u001b[0m\u001b[1;33m,\u001b[0m \u001b[0merrors\u001b[0m\u001b[1;33m=\u001b[0m\u001b[0merrors\u001b[0m\u001b[1;33m)\u001b[0m\u001b[1;33m\u001b[0m\u001b[1;33m\u001b[0m\u001b[0m\n\u001b[0m\u001b[0;32m   3813\u001b[0m             \u001b[0mresult\u001b[0m \u001b[1;33m=\u001b[0m \u001b[0mself\u001b[0m\u001b[1;33m.\u001b[0m\u001b[0mreindex\u001b[0m\u001b[1;33m(\u001b[0m\u001b[1;33m**\u001b[0m\u001b[1;33m{\u001b[0m\u001b[0maxis_name\u001b[0m\u001b[1;33m:\u001b[0m \u001b[0mnew_axis\u001b[0m\u001b[1;33m}\u001b[0m\u001b[1;33m)\u001b[0m\u001b[1;33m\u001b[0m\u001b[1;33m\u001b[0m\u001b[0m\n\u001b[0;32m   3814\u001b[0m \u001b[1;33m\u001b[0m\u001b[0m\n",
      "\u001b[1;32m~\\Anaconda3\\lib\\site-packages\\pandas\\core\\indexes\\base.py\u001b[0m in \u001b[0;36mdrop\u001b[1;34m(self, labels, errors)\u001b[0m\n\u001b[0;32m   4963\u001b[0m             \u001b[1;32mif\u001b[0m \u001b[0merrors\u001b[0m \u001b[1;33m!=\u001b[0m \u001b[1;34m'ignore'\u001b[0m\u001b[1;33m:\u001b[0m\u001b[1;33m\u001b[0m\u001b[1;33m\u001b[0m\u001b[0m\n\u001b[0;32m   4964\u001b[0m                 raise KeyError(\n\u001b[1;32m-> 4965\u001b[1;33m                     '{} not found in axis'.format(labels[mask]))\n\u001b[0m\u001b[0;32m   4966\u001b[0m             \u001b[0mindexer\u001b[0m \u001b[1;33m=\u001b[0m \u001b[0mindexer\u001b[0m\u001b[1;33m[\u001b[0m\u001b[1;33m~\u001b[0m\u001b[0mmask\u001b[0m\u001b[1;33m]\u001b[0m\u001b[1;33m\u001b[0m\u001b[1;33m\u001b[0m\u001b[0m\n\u001b[0;32m   4967\u001b[0m         \u001b[1;32mreturn\u001b[0m \u001b[0mself\u001b[0m\u001b[1;33m.\u001b[0m\u001b[0mdelete\u001b[0m\u001b[1;33m(\u001b[0m\u001b[0mindexer\u001b[0m\u001b[1;33m)\u001b[0m\u001b[1;33m\u001b[0m\u001b[1;33m\u001b[0m\u001b[0m\n",
      "\u001b[1;31mKeyError\u001b[0m: \"['fatal crash number'] not found in axis\""
     ]
    }
   ],
   "source": [
    "APD_2013_df = APD_2013_df.drop(['FATAL CRASH #', 'CASE NUMBER', 'speed', 'AREA',  'FTSRA','Ran Red Light', 'TYPE OF ROAD'], axis=1)\n",
    "APD_2013_df = APD_2013_df.rename(columns={\"LOCATION\": \"Location\",  'restraint or helmet': 'Restraint Type', 'XCOORD': 'X COORD', 'Killed: Driver/Pass':'Victim', 'SUSPECTED IMPAIRMENT': 'Suspected Impairment'})\n",
    "\n",
    "APD_2014_df = APD_2014_df.drop(['FATAL CRASH #', 'CASE NUMBER', 'Ran Red Light', 'AREA', 'Related', 'FTSRA', 'TYPE OF ROAD', 'Charge'], axis=1)\n",
    "APD_2014_df = APD_2014_df.rename(columns={\"LOCATION\": \"Location\", 'restraint or helmet': 'Restraint Type', 'Killed: Driver/Pass':'Victim', 'SUSPECTED IMPAIRMENT': 'Suspected Impairment'})\n",
    "\n",
    "APD_2015_df = APD_2015_df.drop(['FATAL CRASH #', 'CASE NUMBER', 'Ran Red Light', 'AREA', 'Related', 'FTSRA', 'TYPE OF ROAD', 'charge'], axis=1)\n",
    "APD_2015_df = APD_2015_df.rename(columns={\"LOCATION\": \"Location\",  'restraint or helmet': 'Restraint Type','Killed: driver/pass':'Victim', 'DL Status':'Drivers License Status','SUSPECTED IMPAIRMENT': 'Suspected Impairment'})\n",
    "\n",
    "APD_2016_df = APD_2016_df.drop(['FATAL CRASH Number', 'Ran Red Light or Stop Sign','CASE NUMBER', 'Speeding', 'AREA', 'Related', 'Ran Red Light or Stop Sign','FTSRA',  'TYPE OF ROAD',  'Victim', 'charge'], axis=1)\n",
    "APD_2016_df = APD_2016_df.rename(columns={\"LOCATION\": \"Location\",'restraint or helmet': 'Restraint Type', 'COORD X' : 'X COORD','DL Status':'Drivers License Status','SUSPECTED IMPAIRMENT': 'Suspected Impairment'})\n",
    "\n",
    "APD_2017_df = APD_2017_df.drop(['fatal crash number','Ran red light or stop sign', 'Case Number','Ran red light or stop sign', 'Area', 'Type of road', 'Failure to stop and render aid', ],axis=1)\n",
    "APD_2017_df = APD_2017_df.rename(columns={'Restraint helmet': 'Restraint Type', 'X coord' : 'X COORD', 'Y coord': 'Y COORD', 'Killed driver pass': 'Victim', 'DL Status':'Drivers License Status'})\n",
    "\n",
    "APD_2018_df = APD_2018_df.drop(['Fatal Crash Number','Ran Red Light or Stop Sign','Case Number', 'Area', 'Speeding', 'Ran Red Light or Stop Sign', 'Failure to stop and render aid'],axis=1)\n",
    "APD_2018_df = APD_2018_df.rename(columns={ 'Restraint type': 'Restraint Type', 'X coord':'X COORD', 'Y coord': 'Y COORD', 'Killed driver pass': 'Victim','DL Status':'Drivers License Status'})"
   ]
  },
  {
   "cell_type": "code",
   "execution_count": null,
   "metadata": {},
   "outputs": [],
   "source": []
  }
 ],
 "metadata": {
  "kernelspec": {
   "display_name": "Python 3",
   "language": "python",
   "name": "python3"
  },
  "language_info": {
   "codemirror_mode": {
    "name": "ipython",
    "version": 3
   },
   "file_extension": ".py",
   "mimetype": "text/x-python",
   "name": "python",
   "nbconvert_exporter": "python",
   "pygments_lexer": "ipython3",
   "version": "3.7.3"
  }
 },
 "nbformat": 4,
 "nbformat_minor": 2
}
