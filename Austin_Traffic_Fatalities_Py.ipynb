{
 "cells": [
  {
   "cell_type": "code",
   "execution_count": 1,
   "metadata": {},
   "outputs": [],
   "source": [
    "import matplotlib.pyplot as plt\n",
    "import pandas as pd\n",
    "import numpy as np"
   ]
  },
  {
   "cell_type": "code",
   "execution_count": 2,
   "metadata": {},
   "outputs": [],
   "source": [
    "APD_2013 = \"APD_Data/2013_APD_Traffic_Fatalities.csv\"\n",
    "APD_2014 = \"APD_Data/2014_APD_Traffic_Fatalities.csv\"\n",
    "APD_2015 = \"APD_Data/2015_APD_Traffic_Fatalities.csv\"\n",
    "APD_2016 = \"APD_Data/2016_APD_Traffic_Fatalities.csv\"\n",
    "APD_2017 = \"APD_Data/2017_APD_Traffic_Fatalities.csv\"\n",
    "APD_2018 = \"APD_Data/2018_APD_Traffic_Fatality_Data_021219.csv\"\n",
    "\n",
    "\n",
    "APD_2013_df = pd.read_csv(APD_2013)\n",
    "APD_2014_df = pd.read_csv(APD_2014)\n",
    "APD_2015_df = pd.read_csv(APD_2015)\n",
    "APD_2016_df = pd.read_csv(APD_2016)\n",
    "APD_2017_df = pd.read_csv(APD_2017)\n",
    "APD_2018_df = pd.read_csv(APD_2018)"
   ]
  },
  {
   "cell_type": "code",
   "execution_count": 4,
   "metadata": {},
   "outputs": [],
   "source": [
    "APD_2013_df = APD_2013_df.drop(['FATAL CRASH #', 'CASE NUMBER', 'speed', 'AREA',  'FTSRA','Ran Red Light', 'TYPE OF ROAD'], axis=1)\n",
    "APD_2013_df = APD_2013_df.rename(columns={\"LOCATION\": \"Location\",  'restraint or helmet': 'Restraint Type', 'XCOORD': 'X COORD', 'Killed: Driver/Pass':'Victim', 'SUSPECTED IMPAIRMENT': 'Suspected Impairment'})"
   ]
  },
  {
   "cell_type": "code",
   "execution_count": 5,
   "metadata": {},
   "outputs": [],
   "source": [
    "APD_2014_df = APD_2014_df.drop(['FATAL CRASH #', 'CASE NUMBER', 'Ran Red Light', 'AREA', 'Related', 'FTSRA', 'TYPE OF ROAD', 'Charge'], axis=1)\n",
    "APD_2014_df = APD_2014_df.rename(columns={\"LOCATION\": \"Location\", 'restraint or helmet': 'Restraint Type', 'Killed: Driver/Pass':'Victim', 'SUSPECTED IMPAIRMENT': 'Suspected Impairment'})\n"
   ]
  },
  {
   "cell_type": "code",
   "execution_count": 6,
   "metadata": {},
   "outputs": [],
   "source": [
    "APD_2015_df = APD_2015_df.drop(['FATAL CRASH #', 'CASE NUMBER', 'Ran Red Light', 'AREA', 'Related', 'FTSRA', 'TYPE OF ROAD', 'charge'], axis=1)\n",
    "APD_2015_df = APD_2015_df.rename(columns={\"LOCATION\": \"Location\",  'restraint or helmet': 'Restraint Type','Killed: driver/pass':'Victim', 'DL Status':'Drivers License Status','SUSPECTED IMPAIRMENT': 'Suspected Impairment'})\n"
   ]
  },
  {
   "cell_type": "code",
   "execution_count": 7,
   "metadata": {},
   "outputs": [],
   "source": [
    "APD_2016_df = APD_2016_df.drop(['FATAL CRASH Number', 'Ran Red Light or Stop Sign','CASE NUMBER', 'Speeding', 'AREA', 'Related', 'Ran Red Light or Stop Sign','FTSRA',  'TYPE OF ROAD',  'Victim', 'charge'], axis=1)\n",
    "APD_2016_df = APD_2016_df.rename(columns={\"LOCATION\": \"Location\",'restraint or helmet': 'Restraint Type', 'COORD X' : 'X COORD','DL Status':'Drivers License Status','SUSPECTED IMPAIRMENT': 'Suspected Impairment'})\n"
   ]
  },
  {
   "cell_type": "code",
   "execution_count": 10,
   "metadata": {},
   "outputs": [],
   "source": [
    "APD_2017_df = APD_2017_df.drop(['Fatal crash number','Ran red light or stop sign', 'Case Number','Ran red light or stop sign', 'Area', 'Type of road', 'Failure to stop and render aid', ],axis=1)\n",
    "APD_2017_df = APD_2017_df.rename(columns={'Restraint helmet': 'Restraint Type', 'X coord' : 'X COORD', 'Y coord': 'Y COORD', 'Killed driver pass': 'Victim', 'DL Status':'Drivers License Status'})"
   ]
  },
  {
   "cell_type": "code",
   "execution_count": 11,
   "metadata": {},
   "outputs": [],
   "source": [
    "APD_2018_df = APD_2018_df.drop(['Fatal Crash Number','Ran Red Light or Stop Sign','Case Number', 'Area', 'Speeding', 'Ran Red Light or Stop Sign', 'Failure to stop and render aid'],axis=1)\n",
    "APD_2018_df = APD_2018_df.rename(columns={ 'Restraint type': 'Restraint Type', 'X coord':'X COORD', 'Y coord': 'Y COORD', 'Killed driver pass': 'Victim','DL Status':'Drivers License Status'})"
   ]
  }
 ],
 "metadata": {
  "kernelspec": {
   "display_name": "Python 3",
   "language": "python",
   "name": "python3"
  },
  "language_info": {
   "codemirror_mode": {
    "name": "ipython",
    "version": 3
   },
   "file_extension": ".py",
   "mimetype": "text/x-python",
   "name": "python",
   "nbconvert_exporter": "python",
   "pygments_lexer": "ipython3",
   "version": "3.7.3"
  }
 },
 "nbformat": 4,
 "nbformat_minor": 2
}
