{
 "cells": [
  {
   "cell_type": "code",
   "execution_count": 2,
   "metadata": {},
   "outputs": [],
   "source": [
    "import matplotlib.pyplot as plt\n",
    "import pandas as pd\n",
    "import numpy as np"
   ]
  },
  {
   "cell_type": "code",
   "execution_count": 3,
   "metadata": {},
   "outputs": [],
   "source": [
    "APD_2013 = \"Resource/2013_APD_Traffic_Fatalities.csv\"\n",
    "APD_2014 = \"Resource/2014_APD_Traffic_Fatalities.csv\"\n",
    "APD_2015 = \"Resource/2015_APD_Traffic_Fatalities.csv\"\n",
    "APD_2016 = \"Resource/2016_APD_Traffic_Fatalities.csv\"\n",
    "APD_2017 = \"Resource/2017_APD_Traffic_Fatalities.csv\"\n",
    "APD_2018 = \"Resource/2018_APD_Traffic_Fatality_Data_021219.csv\"\n",
    "\n",
    "\n",
    "APD_2013_df = pd.read_csv(APD_2013)\n",
    "APD_2014_df = pd.read_csv(APD_2014)\n",
    "APD_2015_df = pd.read_csv(APD_2015)\n",
    "APD_2016_df = pd.read_csv(APD_2016)\n",
    "APD_2017_df = pd.read_csv(APD_2017)\n",
    "APD_2018_df = pd.read_csv(APD_2018)"
   ]
  },
  {
   "cell_type": "code",
   "execution_count": null,
   "metadata": {},
   "outputs": [],
   "source": [
    "#rename comlumns"
   ]
  },
  {
   "cell_type": "code",
   "execution_count": null,
   "metadata": {},
   "outputs": [],
   "source": [
    "#merged_df = "
   ]
  },
  {
   "cell_type": "code",
   "execution_count": null,
   "metadata": {},
   "outputs": [],
   "source": []
  },
  {
   "cell_type": "code",
   "execution_count": null,
   "metadata": {},
   "outputs": [],
   "source": [
    "seatbelt = merged_df[merged_df[\"\"] == \"\" \"\"]\n",
    "no_seatbelt = merged_df[merged_df[\"\"] == \"\" \"\"]"
   ]
  }
 ],
 "metadata": {
  "kernelspec": {
   "display_name": "Python 3",
   "language": "python",
   "name": "python3"
  },
  "language_info": {
   "codemirror_mode": {
    "name": "ipython",
    "version": 3
   },
   "file_extension": ".py",
   "mimetype": "text/x-python",
   "name": "python",
   "nbconvert_exporter": "python",
   "pygments_lexer": "ipython3",
   "version": "3.7.3"
  }
 },
 "nbformat": 4,
 "nbformat_minor": 2
}
